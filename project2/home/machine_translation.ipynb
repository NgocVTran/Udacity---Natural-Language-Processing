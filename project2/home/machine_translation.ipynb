{
 "cells": [
  {
   "cell_type": "markdown",
   "metadata": {
    "collapsed": true
   },
   "source": [
    "# Artificial Intelligence Nanodegree\n",
    "## Machine Translation Project\n",
    "In this notebook, sections that end with **'(IMPLEMENTATION)'** in the header indicate that the following blocks of code will require additional functionality which you must provide. Please be sure to read the instructions carefully!\n",
    "\n",
    "## Introduction\n",
    "In this notebook, you will build a deep neural network that functions as part of an end-to-end machine translation pipeline. Your completed pipeline will accept English text as input and return the French translation.\n",
    "\n",
    "- **Preprocess** - You'll convert text to sequence of integers.\n",
    "- **Models** Create models which accepts a sequence of integers as input and returns a probability distribution over possible translations. After learning about the basic types of neural networks that are often used for machine translation, you will engage in your own investigations, to design your own model!\n",
    "- **Prediction** Run the model on English text."
   ]
  },
  {
   "cell_type": "code",
   "execution_count": 1,
   "metadata": {},
   "outputs": [],
   "source": [
    "%load_ext autoreload\n",
    "%aimport helper, tests\n",
    "%autoreload 1"
   ]
  },
  {
   "cell_type": "code",
   "execution_count": 2,
   "metadata": {},
   "outputs": [
    {
     "name": "stderr",
     "output_type": "stream",
     "text": [
      "Using TensorFlow backend.\n"
     ]
    }
   ],
   "source": [
    "import collections\n",
    "\n",
    "import helper\n",
    "import numpy as np\n",
    "import project_tests as tests\n",
    "\n",
    "from keras.preprocessing.text import Tokenizer\n",
    "from keras.preprocessing.sequence import pad_sequences\n",
    "from keras.models import Model, Sequential\n",
    "from keras.layers import GRU, Input, Dense, TimeDistributed, Activation, RepeatVector, Bidirectional, Dropout\n",
    "from keras.layers.embeddings import Embedding\n",
    "from keras.optimizers import Adam\n",
    "from keras.losses import sparse_categorical_crossentropy, binary_crossentropy"
   ]
  },
  {
   "cell_type": "markdown",
   "metadata": {},
   "source": [
    "### Verify access to the GPU\n",
    "The following test applies only if you expect to be using a GPU, e.g., while running in a Udacity Workspace or using an AWS instance with GPU support. Run the next cell, and verify that the device_type is \"GPU\".\n",
    "- If the device is not GPU & you are running from a Udacity Workspace, then save your workspace with the icon at the top, then click \"enable\" at the bottom of the workspace.\n",
    "- If the device is not GPU & you are running from an AWS instance, then refer to the cloud computing instructions in the classroom to verify your setup steps."
   ]
  },
  {
   "cell_type": "code",
   "execution_count": 3,
   "metadata": {},
   "outputs": [
    {
     "name": "stdout",
     "output_type": "stream",
     "text": [
      "[name: \"/cpu:0\"\n",
      "device_type: \"CPU\"\n",
      "memory_limit: 268435456\n",
      "locality {\n",
      "}\n",
      "incarnation: 4107851019865574169\n",
      ", name: \"/gpu:0\"\n",
      "device_type: \"GPU\"\n",
      "memory_limit: 357302272\n",
      "locality {\n",
      "  bus_id: 1\n",
      "}\n",
      "incarnation: 5517766173719160808\n",
      "physical_device_desc: \"device: 0, name: Tesla K80, pci bus id: 0000:00:04.0\"\n",
      "]\n"
     ]
    }
   ],
   "source": [
    "from tensorflow.python.client import device_lib\n",
    "print(device_lib.list_local_devices())"
   ]
  },
  {
   "cell_type": "markdown",
   "metadata": {},
   "source": [
    "## Dataset\n",
    "We begin by investigating the dataset that will be used to train and evaluate your pipeline.  The most common datasets used for machine translation are from [WMT](http://www.statmt.org/).  However, that will take a long time to train a neural network on.  We'll be using a dataset we created for this project that contains a small vocabulary.  You'll be able to train your model in a reasonable time with this dataset.\n",
    "### Load Data\n",
    "The data is located in `data/small_vocab_en` and `data/small_vocab_fr`. The `small_vocab_en` file contains English sentences with their French translations in the `small_vocab_fr` file. Load the English and French data from these files from running the cell below."
   ]
  },
  {
   "cell_type": "code",
   "execution_count": 4,
   "metadata": {},
   "outputs": [
    {
     "name": "stdout",
     "output_type": "stream",
     "text": [
      "Dataset Loaded\n"
     ]
    }
   ],
   "source": [
    "# Load English data\n",
    "english_sentences = helper.load_data('data/small_vocab_en')\n",
    "# Load French data\n",
    "french_sentences = helper.load_data('data/small_vocab_fr')\n",
    "\n",
    "print('Dataset Loaded')"
   ]
  },
  {
   "cell_type": "markdown",
   "metadata": {},
   "source": [
    "### Files\n",
    "Each line in `small_vocab_en` contains an English sentence with the respective translation in each line of `small_vocab_fr`.  View the first two lines from each file."
   ]
  },
  {
   "cell_type": "code",
   "execution_count": 5,
   "metadata": {},
   "outputs": [
    {
     "name": "stdout",
     "output_type": "stream",
     "text": [
      "small_vocab_en Line 1:  new jersey is sometimes quiet during autumn , and it is snowy in april .\n",
      "small_vocab_fr Line 1:  new jersey est parfois calme pendant l' automne , et il est neigeux en avril .\n",
      "small_vocab_en Line 2:  the united states is usually chilly during july , and it is usually freezing in november .\n",
      "small_vocab_fr Line 2:  les états-unis est généralement froid en juillet , et il gèle habituellement en novembre .\n"
     ]
    }
   ],
   "source": [
    "for sample_i in range(2):\n",
    "    print('small_vocab_en Line {}:  {}'.format(sample_i + 1, english_sentences[sample_i]))\n",
    "    print('small_vocab_fr Line {}:  {}'.format(sample_i + 1, french_sentences[sample_i]))"
   ]
  },
  {
   "cell_type": "markdown",
   "metadata": {},
   "source": [
    "From looking at the sentences, you can see they have been preprocessed already.  The puncuations have been delimited using spaces. All the text have been converted to lowercase.  This should save you some time, but the text requires more preprocessing.\n",
    "### Vocabulary\n",
    "The complexity of the problem is determined by the complexity of the vocabulary.  A more complex vocabulary is a more complex problem.  Let's look at the complexity of the dataset we'll be working with."
   ]
  },
  {
   "cell_type": "code",
   "execution_count": 6,
   "metadata": {},
   "outputs": [
    {
     "name": "stdout",
     "output_type": "stream",
     "text": [
      "1823250 English words.\n",
      "227 unique English words.\n",
      "10 Most common words in the English dataset:\n",
      "\"is\" \",\" \".\" \"in\" \"it\" \"during\" \"the\" \"but\" \"and\" \"sometimes\"\n",
      "\n",
      "1961295 French words.\n",
      "355 unique French words.\n",
      "10 Most common words in the French dataset:\n",
      "\"est\" \".\" \",\" \"en\" \"il\" \"les\" \"mais\" \"et\" \"la\" \"parfois\"\n"
     ]
    }
   ],
   "source": [
    "english_words_counter = collections.Counter([word for sentence in english_sentences for word in sentence.split()])\n",
    "french_words_counter = collections.Counter([word for sentence in french_sentences for word in sentence.split()])\n",
    "\n",
    "print('{} English words.'.format(len([word for sentence in english_sentences for word in sentence.split()])))\n",
    "print('{} unique English words.'.format(len(english_words_counter)))\n",
    "print('10 Most common words in the English dataset:')\n",
    "print('\"' + '\" \"'.join(list(zip(*english_words_counter.most_common(10)))[0]) + '\"')\n",
    "print()\n",
    "print('{} French words.'.format(len([word for sentence in french_sentences for word in sentence.split()])))\n",
    "print('{} unique French words.'.format(len(french_words_counter)))\n",
    "print('10 Most common words in the French dataset:')\n",
    "print('\"' + '\" \"'.join(list(zip(*french_words_counter.most_common(10)))[0]) + '\"')"
   ]
  },
  {
   "cell_type": "markdown",
   "metadata": {},
   "source": [
    "For comparison, _Alice's Adventures in Wonderland_ contains 2,766 unique words of a total of 15,500 words.\n",
    "## Preprocess\n",
    "For this project, you won't use text data as input to your model. Instead, you'll convert the text into sequences of integers using the following preprocess methods:\n",
    "1. Tokenize the words into ids\n",
    "2. Add padding to make all the sequences the same length.\n",
    "\n",
    "Time to start preprocessing the data...\n",
    "### Tokenize (IMPLEMENTATION)\n",
    "For a neural network to predict on text data, it first has to be turned into data it can understand. Text data like \"dog\" is a sequence of ASCII character encodings.  Since a neural network is a series of multiplication and addition operations, the input data needs to be number(s).\n",
    "\n",
    "We can turn each character into a number or each word into a number.  These are called character and word ids, respectively.  Character ids are used for character level models that generate text predictions for each character.  A word level model uses word ids that generate text predictions for each word.  Word level models tend to learn better, since they are lower in complexity, so we'll use those.\n",
    "\n",
    "Turn each sentence into a sequence of words ids using Keras's [`Tokenizer`](https://keras.io/preprocessing/text/#tokenizer) function. Use this function to tokenize `english_sentences` and `french_sentences` in the cell below.\n",
    "\n",
    "Running the cell will run `tokenize` on sample data and show output for debugging."
   ]
  },
  {
   "cell_type": "code",
   "execution_count": 7,
   "metadata": {},
   "outputs": [],
   "source": [
    "def tokenize(x):\n",
    "    \"\"\"\n",
    "    Tokenize x\n",
    "    :param x: List of sentences/strings to be tokenized\n",
    "    :return: Tuple of (tokenized x data, tokenizer used to tokenize x)\n",
    "    \"\"\"\n",
    "    # TODO: Implement\n",
    "    tokenizer = Tokenizer()\n",
    "    tokenizer.fit_on_texts(x)\n",
    "    data = tokenizer.texts_to_sequences(x)\n",
    "    return data, tokenizer"
   ]
  },
  {
   "cell_type": "code",
   "execution_count": 8,
   "metadata": {},
   "outputs": [],
   "source": [
    "tests.test_tokenize(tokenize)"
   ]
  },
  {
   "cell_type": "code",
   "execution_count": 9,
   "metadata": {},
   "outputs": [
    {
     "name": "stdout",
     "output_type": "stream",
     "text": [
      "{'the': 1, 'quick': 2, 'a': 3, 'brown': 4, 'fox': 5, 'jumps': 6, 'over': 7, 'lazy': 8, 'dog': 9, 'by': 10, 'jove': 11, 'my': 12, 'study': 13, 'of': 14, 'lexicography': 15, 'won': 16, 'prize': 17, 'this': 18, 'is': 19, 'short': 20, 'sentence': 21}\n",
      "\n",
      "Sequence 1 in x\n",
      "  Input:  The quick brown fox jumps over the lazy dog .\n",
      "  Output: [1, 2, 4, 5, 6, 7, 1, 8, 9]\n",
      "Sequence 2 in x\n",
      "  Input:  By Jove , my quick study of lexicography won a prize .\n",
      "  Output: [10, 11, 12, 2, 13, 14, 15, 16, 3, 17]\n",
      "Sequence 3 in x\n",
      "  Input:  This is a short sentence .\n",
      "  Output: [18, 19, 3, 20, 21]\n"
     ]
    }
   ],
   "source": [
    "# Tokenize Example output\n",
    "text_sentences = [\n",
    "    'The quick brown fox jumps over the lazy dog .',\n",
    "    'By Jove , my quick study of lexicography won a prize .',\n",
    "    'This is a short sentence .']\n",
    "text_tokenized, text_tokenizer = tokenize(text_sentences)\n",
    "print(text_tokenizer.word_index)\n",
    "print()\n",
    "for sample_i, (sent, token_sent) in enumerate(zip(text_sentences, text_tokenized)):\n",
    "    print('Sequence {} in x'.format(sample_i + 1))\n",
    "    print('  Input:  {}'.format(sent))\n",
    "    print('  Output: {}'.format(token_sent))"
   ]
  },
  {
   "cell_type": "markdown",
   "metadata": {},
   "source": [
    "### Padding (IMPLEMENTATION)\n",
    "When batching the sequence of word ids together, each sequence needs to be the same length.  Since sentences are dynamic in length, we can add padding to the end of the sequences to make them the same length.\n",
    "\n",
    "Make sure all the English sequences have the same length and all the French sequences have the same length by adding padding to the **end** of each sequence using Keras's [`pad_sequences`](https://keras.io/preprocessing/sequence/#pad_sequences) function."
   ]
  },
  {
   "cell_type": "code",
   "execution_count": 10,
   "metadata": {},
   "outputs": [],
   "source": [
    "def pad(x, length=None):\n",
    "    \"\"\"\n",
    "    Pad x\n",
    "    :param x: List of sequences.\n",
    "    :param length: Length to pad the sequence to.  If None, use length of longest sequence in x.\n",
    "    :return: Padded numpy array of sequences\n",
    "    \"\"\"\n",
    "    # TODO: Implement\n",
    "    return pad_sequences(x, maxlen=length, padding='post')"
   ]
  },
  {
   "cell_type": "code",
   "execution_count": 11,
   "metadata": {},
   "outputs": [],
   "source": [
    "tests.test_pad(pad)"
   ]
  },
  {
   "cell_type": "code",
   "execution_count": 12,
   "metadata": {},
   "outputs": [
    {
     "name": "stdout",
     "output_type": "stream",
     "text": [
      "Sequence 1 in x\n",
      "  Input:  [1 2 4 5 6 7 1 8 9]\n",
      "  Output: [1 2 4 5 6 7 1 8 9 0]\n",
      "Sequence 2 in x\n",
      "  Input:  [10 11 12  2 13 14 15 16  3 17]\n",
      "  Output: [10 11 12  2 13 14 15 16  3 17]\n",
      "Sequence 3 in x\n",
      "  Input:  [18 19  3 20 21]\n",
      "  Output: [18 19  3 20 21  0  0  0  0  0]\n"
     ]
    }
   ],
   "source": [
    "# Pad Tokenized output\n",
    "test_pad = pad(text_tokenized)\n",
    "for sample_i, (token_sent, pad_sent) in enumerate(zip(text_tokenized, test_pad)):\n",
    "    print('Sequence {} in x'.format(sample_i + 1))\n",
    "    print('  Input:  {}'.format(np.array(token_sent)))\n",
    "    print('  Output: {}'.format(pad_sent))"
   ]
  },
  {
   "cell_type": "markdown",
   "metadata": {},
   "source": [
    "### Preprocess Pipeline\n",
    "Your focus for this project is to build neural network architecture, so we won't ask you to create a preprocess pipeline.  Instead, we've provided you with the implementation of the `preprocess` function."
   ]
  },
  {
   "cell_type": "code",
   "execution_count": 13,
   "metadata": {},
   "outputs": [],
   "source": [
    "def preprocess(x, y):\n",
    "    \"\"\"\n",
    "    Preprocess x and y\n",
    "    :param x: Feature List of sentences\n",
    "    :param y: Label List of sentences\n",
    "    :return: Tuple of (Preprocessed x, Preprocessed y, x tokenizer, y tokenizer)\n",
    "    \"\"\"\n",
    "    preprocess_x, x_tk = tokenize(x)\n",
    "    preprocess_y, y_tk = tokenize(y)\n",
    "\n",
    "    preprocess_x = pad(preprocess_x)\n",
    "    preprocess_y = pad(preprocess_y)\n",
    "\n",
    "    # Keras's sparse_categorical_crossentropy function requires the labels to be in 3 dimensions\n",
    "    preprocess_y = preprocess_y.reshape(*preprocess_y.shape, 1)\n",
    "\n",
    "    return preprocess_x, preprocess_y, x_tk, y_tk"
   ]
  },
  {
   "cell_type": "code",
   "execution_count": 14,
   "metadata": {},
   "outputs": [],
   "source": [
    "preproc_english_sentences, preproc_french_sentences, english_tokenizer, french_tokenizer =\\\n",
    "    preprocess(english_sentences, french_sentences)"
   ]
  },
  {
   "cell_type": "code",
   "execution_count": 15,
   "metadata": {},
   "outputs": [],
   "source": [
    "max_english_sequence_length = preproc_english_sentences.shape[1]\n",
    "max_french_sequence_length = preproc_french_sentences.shape[1]\n",
    "english_vocab_size = len(english_tokenizer.word_index)\n",
    "french_vocab_size = len(french_tokenizer.word_index)"
   ]
  },
  {
   "cell_type": "code",
   "execution_count": 16,
   "metadata": {},
   "outputs": [
    {
     "name": "stdout",
     "output_type": "stream",
     "text": [
      "Data Preprocessed\n",
      "Max English sentence length: 15\n",
      "Max French sentence length: 21\n",
      "English vocabulary size: 199\n",
      "French vocabulary size: 344\n"
     ]
    }
   ],
   "source": [
    "print('Data Preprocessed')\n",
    "print(\"Max English sentence length:\", max_english_sequence_length)\n",
    "print(\"Max French sentence length:\", max_french_sequence_length)\n",
    "print(\"English vocabulary size:\", english_vocab_size)\n",
    "print(\"French vocabulary size:\", french_vocab_size)"
   ]
  },
  {
   "cell_type": "markdown",
   "metadata": {},
   "source": [
    "## Models\n",
    "In this section, you will experiment with various neural network architectures.\n",
    "You will begin by training four relatively simple architectures.\n",
    "- Model 1 is a simple RNN\n",
    "- Model 2 is a RNN with Embedding\n",
    "- Model 3 is a Bidirectional RNN\n",
    "- Model 4 is an optional Encoder-Decoder RNN\n",
    "\n",
    "After experimenting with the four simple architectures, you will construct a deeper architecture that is designed to outperform all four models.\n",
    "### Ids Back to Text\n",
    "The neural network will be translating the input to words ids, which isn't the final form we want.  We want the French translation.  The function `logits_to_text` will bridge the gab between the logits from the neural network to the French translation.  You'll be using this function to better understand the output of the neural network."
   ]
  },
  {
   "cell_type": "code",
   "execution_count": 17,
   "metadata": {},
   "outputs": [
    {
     "name": "stdout",
     "output_type": "stream",
     "text": [
      "`logits_to_text` function loaded.\n"
     ]
    }
   ],
   "source": [
    "def logits_to_text(logits, tokenizer):\n",
    "    \"\"\"\n",
    "    Turn logits from a neural network into text using the tokenizer\n",
    "    :param logits: Logits from a neural network\n",
    "    :param tokenizer: Keras Tokenizer fit on the labels\n",
    "    :return: String that represents the text of the logits\n",
    "    \"\"\"\n",
    "    index_to_words = {id: word for word, id in tokenizer.word_index.items()}\n",
    "    index_to_words[0] = '<PAD>'\n",
    "\n",
    "    return ' '.join([index_to_words[prediction] for prediction in np.argmax(logits, 1)])\n",
    "\n",
    "print('`logits_to_text` function loaded.')"
   ]
  },
  {
   "cell_type": "markdown",
   "metadata": {},
   "source": [
    "### Model 1: RNN (IMPLEMENTATION)\n",
    "![RNN](images/rnn.png)\n",
    "A basic RNN model is a good baseline for sequence data.  In this model, you'll build a RNN that translates English to French."
   ]
  },
  {
   "cell_type": "code",
   "execution_count": 18,
   "metadata": {},
   "outputs": [],
   "source": [
    "# from keras.models import Model, Sequential\n",
    "# from keras.layers import GRU, Input, Dense, Dropout\n",
    "# from keras.layers import Activation\n",
    "# from keras.optimizers import Adam\n",
    "# from keras.losses import sparse_categorical_crossentropy, binary_crossentropy"
   ]
  },
  {
   "cell_type": "code",
   "execution_count": 19,
   "metadata": {},
   "outputs": [],
   "source": [
    "def simple_model(input_shape, output_sequence_length, english_vocab_size, french_vocab_size):\n",
    "    \"\"\"\n",
    "    Build and train a basic RNN on x and y\n",
    "    :param input_shape: Tuple of input shape\n",
    "    :param output_sequence_length: Length of output sequence\n",
    "    :param english_vocab_size: Number of unique English words in the dataset\n",
    "    :param french_vocab_size: Number of unique French words in the dataset\n",
    "    :return: Keras model built, but not trained\n",
    "    \"\"\"\n",
    "    # TODO: Build the layers\n",
    "    learning_rate = 0.001\n",
    "    \n",
    "    model = Sequential()\n",
    "#     model.add(SimpleRNN(128, dropout=0.1,input_shape=input_shape[1:], return_sequences=True))\n",
    "    model.add(GRU(128, dropout=0.1,input_shape=input_shape[1:], return_sequences=True) )\n",
    "    model.add(TimeDistributed(Dense(french_vocab_size, activation=\"tanh\") ))\n",
    "    model.add(Dropout(0.1))\n",
    "    model.add(TimeDistributed(Dense(french_vocab_size, activation=\"softmax\")))\n",
    "    \n",
    "    model.compile(loss=sparse_categorical_crossentropy,\n",
    "                  optimizer=Adam(learning_rate),\n",
    "                  metrics=['accuracy'])\n",
    "\n",
    "    return model"
   ]
  },
  {
   "cell_type": "code",
   "execution_count": 20,
   "metadata": {},
   "outputs": [],
   "source": [
    "tests.test_simple_model(simple_model)"
   ]
  },
  {
   "cell_type": "code",
   "execution_count": 21,
   "metadata": {},
   "outputs": [],
   "source": [
    "# Reshaping the input to work with a basic RNN\n",
    "tmp_x = pad(preproc_english_sentences, max_french_sequence_length)\n",
    "tmp_x = tmp_x.reshape((-1, preproc_french_sentences.shape[-2], 1))"
   ]
  },
  {
   "cell_type": "code",
   "execution_count": 22,
   "metadata": {},
   "outputs": [
    {
     "name": "stdout",
     "output_type": "stream",
     "text": [
      "Train on 110288 samples, validate on 27573 samples\n",
      "Epoch 1/10\n",
      "110288/110288 [==============================] - 11s 100us/step - loss: 2.7492 - acc: 0.4653 - val_loss: nan - val_acc: 0.5427\n",
      "Epoch 2/10\n",
      "110288/110288 [==============================] - 9s 82us/step - loss: 1.8085 - acc: 0.5608 - val_loss: nan - val_acc: 0.5887\n",
      "Epoch 3/10\n",
      "110288/110288 [==============================] - 9s 82us/step - loss: 1.5528 - acc: 0.5902 - val_loss: nan - val_acc: 0.6017\n",
      "Epoch 4/10\n",
      "110288/110288 [==============================] - 9s 82us/step - loss: 1.4279 - acc: 0.6079 - val_loss: nan - val_acc: 0.6079\n",
      "Epoch 5/10\n",
      "110288/110288 [==============================] - 9s 82us/step - loss: 1.3414 - acc: 0.6238 - val_loss: nan - val_acc: 0.5994\n",
      "Epoch 6/10\n",
      "110288/110288 [==============================] - 9s 82us/step - loss: 1.2759 - acc: 0.6365 - val_loss: nan - val_acc: 0.6028\n",
      "Epoch 7/10\n",
      "110288/110288 [==============================] - 9s 82us/step - loss: 1.2285 - acc: 0.6441 - val_loss: nan - val_acc: 0.5967\n",
      "Epoch 8/10\n",
      "110288/110288 [==============================] - 9s 82us/step - loss: 1.1926 - acc: 0.6491 - val_loss: nan - val_acc: 0.5905\n",
      "Epoch 9/10\n",
      "110288/110288 [==============================] - 9s 82us/step - loss: 1.1629 - acc: 0.6536 - val_loss: nan - val_acc: 0.5853\n",
      "Epoch 10/10\n",
      "110288/110288 [==============================] - 9s 81us/step - loss: 1.1403 - acc: 0.6570 - val_loss: nan - val_acc: 0.5821\n"
     ]
    },
    {
     "data": {
      "text/plain": [
       "<keras.callbacks.History at 0x7fd361c6acf8>"
      ]
     },
     "execution_count": 22,
     "metadata": {},
     "output_type": "execute_result"
    }
   ],
   "source": [
    "# Train the neural network\n",
    "simple_rnn_model = simple_model(\n",
    "    tmp_x.shape,\n",
    "    max_french_sequence_length,\n",
    "    english_vocab_size,\n",
    "    french_vocab_size)\n",
    "simple_rnn_model.fit(tmp_x, preproc_french_sentences, batch_size=1024, epochs=10, validation_split=0.2)"
   ]
  },
  {
   "cell_type": "code",
   "execution_count": 23,
   "metadata": {},
   "outputs": [
    {
     "name": "stdout",
     "output_type": "stream",
     "text": [
      "new jersey est parfois parfois en l' mais il est agréable en en <PAD> <PAD> <PAD> <PAD> <PAD> <PAD> <PAD> <PAD>\n"
     ]
    }
   ],
   "source": [
    "# Print prediction(s)\n",
    "print(logits_to_text(simple_rnn_model.predict(tmp_x[:1])[0], french_tokenizer))"
   ]
  },
  {
   "cell_type": "markdown",
   "metadata": {},
   "source": [
    "### Model 2: Embedding (IMPLEMENTATION)\n",
    "![RNN](images/embedding.png)\n",
    "You've turned the words into ids, but there's a better representation of a word.  This is called word embeddings.  An embedding is a vector representation of the word that is close to similar words in n-dimensional space, where the n represents the size of the embedding vectors.\n",
    "\n",
    "In this model, you'll create a RNN model using embedding."
   ]
  },
  {
   "cell_type": "code",
   "execution_count": 24,
   "metadata": {},
   "outputs": [],
   "source": [
    "def embed_model(input_shape, output_sequence_length, english_vocab_size, french_vocab_size):\n",
    "    \"\"\"\n",
    "    Build and train a RNN model using word embedding on x and y\n",
    "    :param input_shape: Tuple of input shape\n",
    "    :param output_sequence_length: Length of output sequence\n",
    "    :param english_vocab_size: Number of unique English words in the dataset\n",
    "    :param french_vocab_size: Number of unique French words in the dataset\n",
    "    :return: Keras model built, but not trained\n",
    "    \"\"\"\n",
    "    # TODO: Implement\n",
    "    # TODO: Implement\n",
    "    learning_rate = 0.001\n",
    "    \n",
    "    model = Sequential()\n",
    "    model.add(Embedding(english_vocab_size, 128, input_length=input_shape[1],\n",
    "                         input_shape=input_shape[1:]))\n",
    "    \n",
    "    model.add(GRU(128, dropout=0.1,input_shape=input_shape[1:], return_sequences=True) )\n",
    "    model.add(TimeDistributed(Dense(french_vocab_size, activation=\"tanh\") ))\n",
    "    model.add(Dropout(0.1))\n",
    "    model.add(TimeDistributed(Dense(french_vocab_size, activation=\"softmax\")))\n",
    "    \n",
    "    model.compile(loss=sparse_categorical_crossentropy,\n",
    "                  optimizer=Adam(learning_rate),\n",
    "                  metrics=['accuracy'])\n",
    "    \n",
    "    return model"
   ]
  },
  {
   "cell_type": "code",
   "execution_count": 25,
   "metadata": {},
   "outputs": [],
   "source": [
    "tests.test_embed_model(embed_model)"
   ]
  },
  {
   "cell_type": "code",
   "execution_count": 26,
   "metadata": {},
   "outputs": [],
   "source": [
    "# TODO: Reshape the input\n",
    "tmp_x = pad(preproc_english_sentences, preproc_french_sentences.shape[1])\n",
    "tmp_x = tmp_x.reshape((-1, preproc_french_sentences.shape[-2]))"
   ]
  },
  {
   "cell_type": "code",
   "execution_count": 27,
   "metadata": {},
   "outputs": [],
   "source": [
    "# TODO: Train the neural network\n",
    "embed_rnn_model = embed_model(\n",
    "    tmp_x.shape,\n",
    "    preproc_french_sentences.shape[1],\n",
    "    len(english_tokenizer.word_index)+1,\n",
    "    len(french_tokenizer.word_index)+1)"
   ]
  },
  {
   "cell_type": "code",
   "execution_count": 28,
   "metadata": {},
   "outputs": [
    {
     "name": "stdout",
     "output_type": "stream",
     "text": [
      "_________________________________________________________________\n",
      "Layer (type)                 Output Shape              Param #   \n",
      "=================================================================\n",
      "embedding_2 (Embedding)      (None, 21, 128)           25600     \n",
      "_________________________________________________________________\n",
      "gru_4 (GRU)                  (None, 21, 128)           98688     \n",
      "_________________________________________________________________\n",
      "time_distributed_7 (TimeDist (None, 21, 345)           44505     \n",
      "_________________________________________________________________\n",
      "dropout_4 (Dropout)          (None, 21, 345)           0         \n",
      "_________________________________________________________________\n",
      "time_distributed_8 (TimeDist (None, 21, 345)           119370    \n",
      "=================================================================\n",
      "Total params: 288,163\n",
      "Trainable params: 288,163\n",
      "Non-trainable params: 0\n",
      "_________________________________________________________________\n",
      "None\n"
     ]
    }
   ],
   "source": [
    "print(embed_rnn_model.summary())"
   ]
  },
  {
   "cell_type": "code",
   "execution_count": 29,
   "metadata": {},
   "outputs": [
    {
     "name": "stdout",
     "output_type": "stream",
     "text": [
      "Train on 110288 samples, validate on 27573 samples\n",
      "Epoch 1/10\n",
      "110288/110288 [==============================] - 11s 101us/step - loss: 2.9964 - acc: 0.4409 - val_loss: 2.0513 - val_acc: 0.5339\n",
      "Epoch 2/10\n",
      "110288/110288 [==============================] - 11s 97us/step - loss: 1.5077 - acc: 0.6272 - val_loss: 1.1125 - val_acc: 0.7201\n",
      "Epoch 3/10\n",
      "110288/110288 [==============================] - 11s 98us/step - loss: 0.9487 - acc: 0.7514 - val_loss: 0.7722 - val_acc: 0.7877\n",
      "Epoch 4/10\n",
      "110288/110288 [==============================] - 11s 98us/step - loss: 0.7108 - acc: 0.7970 - val_loss: 0.6084 - val_acc: 0.8211\n",
      "Epoch 5/10\n",
      "110288/110288 [==============================] - 11s 98us/step - loss: 0.5893 - acc: 0.8224 - val_loss: 0.5166 - val_acc: 0.8411\n",
      "Epoch 6/10\n",
      "110288/110288 [==============================] - 11s 98us/step - loss: 0.5130 - acc: 0.8401 - val_loss: 0.4511 - val_acc: 0.8590\n",
      "Epoch 7/10\n",
      "110288/110288 [==============================] - 11s 97us/step - loss: 0.4595 - acc: 0.8543 - val_loss: 0.4064 - val_acc: 0.8712\n",
      "Epoch 8/10\n",
      "110288/110288 [==============================] - 11s 98us/step - loss: 0.4216 - acc: 0.8647 - val_loss: 0.3797 - val_acc: 0.8775\n",
      "Epoch 9/10\n",
      "110288/110288 [==============================] - 11s 98us/step - loss: 0.3927 - acc: 0.8727 - val_loss: 0.3502 - val_acc: 0.8861\n",
      "Epoch 10/10\n",
      "110288/110288 [==============================] - 11s 97us/step - loss: 0.3685 - acc: 0.8798 - val_loss: 0.3353 - val_acc: 0.8899\n"
     ]
    },
    {
     "data": {
      "text/plain": [
       "<keras.callbacks.History at 0x7fd360d28358>"
      ]
     },
     "execution_count": 29,
     "metadata": {},
     "output_type": "execute_result"
    }
   ],
   "source": [
    "embed_rnn_model.fit(tmp_x, preproc_french_sentences, batch_size=1024, epochs=10, validation_split=0.2)"
   ]
  },
  {
   "cell_type": "code",
   "execution_count": 30,
   "metadata": {},
   "outputs": [
    {
     "name": "stdout",
     "output_type": "stream",
     "text": [
      "new jersey est parfois calme en l' et il est il en avril <PAD> <PAD> <PAD> <PAD> <PAD> <PAD> <PAD> <PAD>\n"
     ]
    }
   ],
   "source": [
    "# TODO: Print prediction(s)\n",
    "print(logits_to_text(embed_rnn_model.predict(tmp_x[:1])[0], french_tokenizer))"
   ]
  },
  {
   "cell_type": "markdown",
   "metadata": {},
   "source": [
    "### Model 3: Bidirectional RNNs (IMPLEMENTATION)\n",
    "![RNN](images/bidirectional.png)\n",
    "One restriction of a RNN is that it can't see the future input, only the past.  This is where bidirectional recurrent neural networks come in.  They are able to see the future data."
   ]
  },
  {
   "cell_type": "code",
   "execution_count": 33,
   "metadata": {},
   "outputs": [],
   "source": [
    "def bd_model(input_shape, output_sequence_length, english_vocab_size, french_vocab_size):\n",
    "    \"\"\"\n",
    "    Build and train a bidirectional RNN model on x and y\n",
    "    :param input_shape: Tuple of input shape\n",
    "    :param output_sequence_length: Length of output sequence\n",
    "    :param english_vocab_size: Number of unique English words in the dataset\n",
    "    :param french_vocab_size: Number of unique French words in the dataset\n",
    "    :return: Keras model built, but not trained\n",
    "    \"\"\"\n",
    "    # TODO: Implement\n",
    "    inp = Input(input_shape[1:])\n",
    "    \n",
    "    x = Bidirectional(GRU(output_sequence_length, return_sequences=True))(inp)\n",
    "    x = Dropout(0.2)(x)\n",
    "    x = TimeDistributed(Dense(french_vocab_size, activation = 'softmax'))(x)\n",
    "    model = Model(inp, x)\n",
    "    \n",
    "    model.compile(loss=sparse_categorical_crossentropy,\n",
    "                  optimizer='adam',\n",
    "                  metrics=['accuracy'])\n",
    "    return model"
   ]
  },
  {
   "cell_type": "code",
   "execution_count": 34,
   "metadata": {},
   "outputs": [],
   "source": [
    "tests.test_bd_model(bd_model)"
   ]
  },
  {
   "cell_type": "code",
   "execution_count": 35,
   "metadata": {},
   "outputs": [],
   "source": [
    "# Reshape\n",
    "tmp_x = pad(preproc_english_sentences, max_french_sequence_length)\n",
    "tmp_x = tmp_x.reshape((-1, preproc_french_sentences.shape[-2], 1))"
   ]
  },
  {
   "cell_type": "code",
   "execution_count": 36,
   "metadata": {},
   "outputs": [
    {
     "name": "stdout",
     "output_type": "stream",
     "text": [
      "Train on 110288 samples, validate on 27573 samples\n",
      "Epoch 1/10\n",
      "110288/110288 [==============================] - 9s 86us/step - loss: 4.4917 - acc: 0.3817 - val_loss: 2.8545 - val_acc: 0.4562\n",
      "Epoch 2/10\n",
      "110288/110288 [==============================] - 9s 82us/step - loss: 2.6391 - acc: 0.4763 - val_loss: 2.4360 - val_acc: 0.4875\n",
      "Epoch 3/10\n",
      "110288/110288 [==============================] - 9s 82us/step - loss: 2.3802 - acc: 0.4940 - val_loss: 2.2427 - val_acc: 0.5053\n",
      "Epoch 4/10\n",
      "110288/110288 [==============================] - 9s 82us/step - loss: 2.2203 - acc: 0.5115 - val_loss: 2.0925 - val_acc: 0.5286\n",
      "Epoch 5/10\n",
      "110288/110288 [==============================] - 9s 81us/step - loss: 2.0831 - acc: 0.5277 - val_loss: 1.9475 - val_acc: 0.5581\n",
      "Epoch 6/10\n",
      "110288/110288 [==============================] - 9s 82us/step - loss: 1.9589 - acc: 0.5420 - val_loss: 1.8257 - val_acc: 0.5619\n",
      "Epoch 7/10\n",
      "110288/110288 [==============================] - 9s 81us/step - loss: 1.8615 - acc: 0.5509 - val_loss: 1.7383 - val_acc: 0.5732\n",
      "Epoch 8/10\n",
      "110288/110288 [==============================] - 9s 83us/step - loss: 1.7934 - acc: 0.5596 - val_loss: 1.6729 - val_acc: 0.5865\n",
      "Epoch 9/10\n",
      "110288/110288 [==============================] - 9s 84us/step - loss: 1.7385 - acc: 0.5683 - val_loss: 1.6203 - val_acc: 0.5951\n",
      "Epoch 10/10\n",
      "110288/110288 [==============================] - 9s 83us/step - loss: 1.6954 - acc: 0.5746 - val_loss: 1.5787 - val_acc: 0.6035\n"
     ]
    },
    {
     "data": {
      "text/plain": [
       "<keras.callbacks.History at 0x7fd361cedb00>"
      ]
     },
     "execution_count": 36,
     "metadata": {},
     "output_type": "execute_result"
    }
   ],
   "source": [
    "# Train the neural network\n",
    "bd_model = bd_model(\n",
    "    tmp_x.shape,\n",
    "    max_french_sequence_length,\n",
    "    english_vocab_size+1,\n",
    "    french_vocab_size+1)\n",
    "bd_model.fit(tmp_x, preproc_french_sentences, batch_size=1024, epochs=10, validation_split=0.2)"
   ]
  },
  {
   "cell_type": "code",
   "execution_count": 37,
   "metadata": {},
   "outputs": [
    {
     "name": "stdout",
     "output_type": "stream",
     "text": [
      "new jersey est est parfois en en et il est est en en <PAD> <PAD> <PAD> <PAD> <PAD> <PAD> <PAD> <PAD>\n"
     ]
    }
   ],
   "source": [
    "print(logits_to_text(bd_model.predict(tmp_x[:1])[0], french_tokenizer))"
   ]
  },
  {
   "cell_type": "markdown",
   "metadata": {},
   "source": [
    "### Model 4: Encoder-Decoder (OPTIONAL)\n",
    "Time to look at encoder-decoder models.  This model is made up of an encoder and decoder. The encoder creates a matrix representation of the sentence.  The decoder takes this matrix as input and predicts the translation as output.\n",
    "\n",
    "Create an encoder-decoder model in the cell below."
   ]
  },
  {
   "cell_type": "code",
   "execution_count": 38,
   "metadata": {},
   "outputs": [],
   "source": [
    "def encdec_model(input_shape, output_sequence_length, english_vocab_size, french_vocab_size):\n",
    "    \"\"\"\n",
    "    Build and train an encoder-decoder model on x and y\n",
    "    :param input_shape: Tuple of input shape\n",
    "    :param output_sequence_length: Length of output sequence\n",
    "    :param english_vocab_size: Number of unique English words in the dataset\n",
    "    :param french_vocab_size: Number of unique French words in the dataset\n",
    "    :return: Keras model built, but not trained\n",
    "    \"\"\"\n",
    "    # OPTIONAL: Implement\n",
    "    model = Sequential()\n",
    "    \n",
    "    # Encode\n",
    "    model.add(GRU(256, input_shape=input_shape[1:], return_sequences=False) )\n",
    "    model.add(RepeatVector(output_sequence_length))\n",
    "    \n",
    "    # Decode\n",
    "    model.add(GRU(256, return_sequences=True) )\n",
    "    model.add(TimeDistributed(Dense(french_vocab_size, activation='softmax') ))\n",
    "    model.summary()\n",
    "    \n",
    "    model.compile(loss=sparse_categorical_crossentropy,\n",
    "                  optimizer='adam',\n",
    "                  metrics=['accuracy'])\n",
    "    return model"
   ]
  },
  {
   "cell_type": "code",
   "execution_count": 39,
   "metadata": {},
   "outputs": [
    {
     "name": "stdout",
     "output_type": "stream",
     "text": [
      "_________________________________________________________________\n",
      "Layer (type)                 Output Shape              Param #   \n",
      "=================================================================\n",
      "gru_7 (GRU)                  (None, 256)               198144    \n",
      "_________________________________________________________________\n",
      "repeat_vector_1 (RepeatVecto (None, 21, 256)           0         \n",
      "_________________________________________________________________\n",
      "gru_8 (GRU)                  (None, 21, 256)           393984    \n",
      "_________________________________________________________________\n",
      "time_distributed_11 (TimeDis (None, 21, 344)           88408     \n",
      "=================================================================\n",
      "Total params: 680,536\n",
      "Trainable params: 680,536\n",
      "Non-trainable params: 0\n",
      "_________________________________________________________________\n"
     ]
    }
   ],
   "source": [
    "tests.test_encdec_model(encdec_model)"
   ]
  },
  {
   "cell_type": "code",
   "execution_count": 40,
   "metadata": {},
   "outputs": [],
   "source": [
    "tmp_x = preproc_english_sentences.reshape((-1, preproc_english_sentences.shape[-1], 1))"
   ]
  },
  {
   "cell_type": "code",
   "execution_count": 41,
   "metadata": {},
   "outputs": [
    {
     "name": "stdout",
     "output_type": "stream",
     "text": [
      "_________________________________________________________________\n",
      "Layer (type)                 Output Shape              Param #   \n",
      "=================================================================\n",
      "gru_9 (GRU)                  (None, 256)               198144    \n",
      "_________________________________________________________________\n",
      "repeat_vector_2 (RepeatVecto (None, 21, 256)           0         \n",
      "_________________________________________________________________\n",
      "gru_10 (GRU)                 (None, 21, 256)           393984    \n",
      "_________________________________________________________________\n",
      "time_distributed_12 (TimeDis (None, 21, 345)           88665     \n",
      "=================================================================\n",
      "Total params: 680,793\n",
      "Trainable params: 680,793\n",
      "Non-trainable params: 0\n",
      "_________________________________________________________________\n",
      "Train on 110288 samples, validate on 27573 samples\n",
      "Epoch 1/10\n",
      "110288/110288 [==============================] - 19s 168us/step - loss: 2.7491 - acc: 0.4608 - val_loss: 2.1946 - val_acc: 0.5050\n",
      "Epoch 2/10\n",
      "110288/110288 [==============================] - 18s 161us/step - loss: 1.9561 - acc: 0.5327 - val_loss: 1.7742 - val_acc: 0.5598\n",
      "Epoch 3/10\n",
      "110288/110288 [==============================] - 18s 161us/step - loss: 1.6867 - acc: 0.5656 - val_loss: 1.6194 - val_acc: 0.5715\n",
      "Epoch 4/10\n",
      "110288/110288 [==============================] - 18s 161us/step - loss: 1.5521 - acc: 0.5867 - val_loss: 1.4925 - val_acc: 0.5940\n",
      "Epoch 5/10\n",
      "110288/110288 [==============================] - 18s 161us/step - loss: 1.4414 - acc: 0.6035 - val_loss: 1.4019 - val_acc: 0.6109\n",
      "Epoch 6/10\n",
      "110288/110288 [==============================] - 18s 161us/step - loss: 1.3612 - acc: 0.6183 - val_loss: 1.3249 - val_acc: 0.6270\n",
      "Epoch 7/10\n",
      "110288/110288 [==============================] - 18s 161us/step - loss: 1.3011 - acc: 0.6304 - val_loss: 1.2762 - val_acc: 0.6331\n",
      "Epoch 8/10\n",
      "110288/110288 [==============================] - 18s 161us/step - loss: 1.2597 - acc: 0.6349 - val_loss: 1.2439 - val_acc: 0.6369\n",
      "Epoch 9/10\n",
      "110288/110288 [==============================] - 18s 162us/step - loss: 1.2300 - acc: 0.6390 - val_loss: 1.2182 - val_acc: 0.6409\n",
      "Epoch 10/10\n",
      "110288/110288 [==============================] - 18s 161us/step - loss: 1.2092 - acc: 0.6424 - val_loss: 1.1954 - val_acc: 0.6456\n"
     ]
    },
    {
     "data": {
      "text/plain": [
       "<keras.callbacks.History at 0x7fd35d299f98>"
      ]
     },
     "execution_count": 41,
     "metadata": {},
     "output_type": "execute_result"
    }
   ],
   "source": [
    "# OPTIONAL: Train and Print prediction(s)\n",
    "encdec_model = encdec_model(\n",
    "    tmp_x.shape,\n",
    "    max_french_sequence_length,\n",
    "    english_vocab_size+1,\n",
    "    french_vocab_size+1)\n",
    "encdec_model.fit(tmp_x, preproc_french_sentences, batch_size=1024, epochs=10, validation_split=0.2)"
   ]
  },
  {
   "cell_type": "code",
   "execution_count": 48,
   "metadata": {},
   "outputs": [
    {
     "name": "stdout",
     "output_type": "stream",
     "text": [
      "new jersey est parfois agréable en mois mais il est est en en <PAD> <PAD> <PAD> <PAD> <PAD> <PAD> <PAD> <PAD>\n"
     ]
    }
   ],
   "source": [
    "print(logits_to_text(encdec_model.predict(tmp_x[:1])[0], french_tokenizer))"
   ]
  },
  {
   "cell_type": "markdown",
   "metadata": {},
   "source": [
    "### Model 5: Custom (IMPLEMENTATION)\n",
    "Use everything you learned from the previous models to create a model that incorporates embedding and a bidirectional rnn into one model."
   ]
  },
  {
   "cell_type": "code",
   "execution_count": 49,
   "metadata": {},
   "outputs": [],
   "source": [
    "def model_final(input_shape, output_sequence_length, english_vocab_size, french_vocab_size):\n",
    "    \"\"\"\n",
    "    Build and train a model that incorporates embedding, encoder-decoder, and bidirectional RNN on x and y\n",
    "    :param input_shape: Tuple of input shape\n",
    "    :param output_sequence_length: Length of output sequence\n",
    "    :param english_vocab_size: Number of unique English words in the dataset\n",
    "    :param french_vocab_size: Number of unique French words in the dataset\n",
    "    :return: Keras model built, but not trained\n",
    "    \"\"\"\n",
    "    # TODO: Implement\n",
    "    learning_rate = 0.001\n",
    "    \n",
    "    inputs = Input(shape=input_shape[1:],name='inputs')\n",
    "    embedding = Embedding(input_dim=english_vocab_size, output_dim=32,input_length=output_sequence_length)(inputs)\n",
    "    output = Bidirectional(GRU(256,return_sequences=True), merge_mode='concat')(embedding)\n",
    "    predictions = TimeDistributed(Dense(units=french_vocab_size,activation='softmax'))(output)\n",
    "    \n",
    "    model = Model(inputs=inputs,outputs=predictions)\n",
    "    model.compile(loss=sparse_categorical_crossentropy,\n",
    "                  optimizer=Adam(learning_rate),\n",
    "                  metrics=['accuracy'])\n",
    "    return model"
   ]
  },
  {
   "cell_type": "code",
   "execution_count": 50,
   "metadata": {},
   "outputs": [],
   "source": [
    "tests.test_model_final(model_final)"
   ]
  },
  {
   "cell_type": "code",
   "execution_count": 51,
   "metadata": {},
   "outputs": [
    {
     "name": "stdout",
     "output_type": "stream",
     "text": [
      "Final Model Loaded\n"
     ]
    }
   ],
   "source": [
    "print('Final Model Loaded')\n",
    "# TODO: Train the final model"
   ]
  },
  {
   "cell_type": "markdown",
   "metadata": {},
   "source": [
    "## Prediction (IMPLEMENTATION)"
   ]
  },
  {
   "cell_type": "code",
   "execution_count": 52,
   "metadata": {},
   "outputs": [
    {
     "name": "stdout",
     "output_type": "stream",
     "text": [
      "Train on 110288 samples, validate on 27573 samples\n",
      "Epoch 1/50\n",
      "110288/110288 [==============================] - 36s 325us/step - loss: 1.9776 - acc: 0.5677 - val_loss: 1.0733 - val_acc: 0.7290\n",
      "Epoch 2/50\n",
      "110288/110288 [==============================] - 35s 314us/step - loss: 0.7667 - acc: 0.7932 - val_loss: 0.5449 - val_acc: 0.8454\n",
      "Epoch 3/50\n",
      "110288/110288 [==============================] - 35s 318us/step - loss: 0.4244 - acc: 0.8777 - val_loss: 0.3235 - val_acc: 0.9067\n",
      "Epoch 4/50\n",
      "110288/110288 [==============================] - 35s 317us/step - loss: 0.2722 - acc: 0.9196 - val_loss: 0.2302 - val_acc: 0.9313\n",
      "Epoch 5/50\n",
      "110288/110288 [==============================] - 35s 318us/step - loss: 0.2030 - acc: 0.9390 - val_loss: 0.1817 - val_acc: 0.9449\n",
      "Epoch 6/50\n",
      "110288/110288 [==============================] - 35s 318us/step - loss: 0.1617 - acc: 0.9511 - val_loss: 0.1498 - val_acc: 0.9548\n",
      "Epoch 7/50\n",
      "110288/110288 [==============================] - 35s 321us/step - loss: 0.1360 - acc: 0.9584 - val_loss: 0.1342 - val_acc: 0.9596\n",
      "Epoch 8/50\n",
      "110288/110288 [==============================] - 35s 317us/step - loss: 0.1151 - acc: 0.9647 - val_loss: 0.1184 - val_acc: 0.9647\n",
      "Epoch 9/50\n",
      "110288/110288 [==============================] - 35s 316us/step - loss: 0.1012 - acc: 0.9690 - val_loss: 0.1043 - val_acc: 0.9683\n",
      "Epoch 10/50\n",
      "110288/110288 [==============================] - 35s 318us/step - loss: 0.0906 - acc: 0.9720 - val_loss: 0.1058 - val_acc: 0.9673\n",
      "Epoch 11/50\n",
      "110288/110288 [==============================] - 35s 320us/step - loss: 0.0828 - acc: 0.9745 - val_loss: 0.0943 - val_acc: 0.9712\n",
      "Epoch 12/50\n",
      "110288/110288 [==============================] - 35s 320us/step - loss: 0.0747 - acc: 0.9768 - val_loss: 0.0853 - val_acc: 0.9744\n",
      "Epoch 13/50\n",
      "110288/110288 [==============================] - 35s 316us/step - loss: 0.0687 - acc: 0.9786 - val_loss: 0.0838 - val_acc: 0.9747\n",
      "Epoch 14/50\n",
      "110288/110288 [==============================] - 35s 318us/step - loss: 0.0643 - acc: 0.9799 - val_loss: 0.0781 - val_acc: 0.9765\n",
      "Epoch 15/50\n",
      "110288/110288 [==============================] - 35s 321us/step - loss: 0.0599 - acc: 0.9813 - val_loss: 0.0763 - val_acc: 0.9771\n",
      "Epoch 16/50\n",
      "110288/110288 [==============================] - 35s 316us/step - loss: 0.0559 - acc: 0.9824 - val_loss: 0.0741 - val_acc: 0.9782\n",
      "Epoch 17/50\n",
      "110288/110288 [==============================] - 35s 317us/step - loss: 0.0524 - acc: 0.9835 - val_loss: 0.0722 - val_acc: 0.9791\n",
      "Epoch 18/50\n",
      "110288/110288 [==============================] - 35s 319us/step - loss: 0.0502 - acc: 0.9843 - val_loss: 0.0751 - val_acc: 0.9779\n",
      "Epoch 19/50\n",
      "110288/110288 [==============================] - 35s 319us/step - loss: 0.0474 - acc: 0.9850 - val_loss: 0.0722 - val_acc: 0.9787\n",
      "Epoch 20/50\n",
      "110288/110288 [==============================] - 35s 322us/step - loss: 0.0442 - acc: 0.9860 - val_loss: 0.0679 - val_acc: 0.9802\n",
      "Epoch 21/50\n",
      "110288/110288 [==============================] - 35s 315us/step - loss: 0.0421 - acc: 0.9868 - val_loss: 0.0788 - val_acc: 0.9775\n",
      "Epoch 22/50\n",
      "110288/110288 [==============================] - 35s 319us/step - loss: 0.0417 - acc: 0.9870 - val_loss: 0.0705 - val_acc: 0.9797\n",
      "Epoch 23/50\n",
      "110288/110288 [==============================] - 35s 318us/step - loss: 0.0372 - acc: 0.9882 - val_loss: 0.0656 - val_acc: 0.9816\n",
      "Epoch 24/50\n",
      "110288/110288 [==============================] - 35s 318us/step - loss: 0.0358 - acc: 0.9886 - val_loss: 0.0662 - val_acc: 0.9811\n",
      "Epoch 25/50\n",
      "110288/110288 [==============================] - 35s 315us/step - loss: 0.0354 - acc: 0.9887 - val_loss: 0.0658 - val_acc: 0.9815\n",
      "Epoch 26/50\n",
      "110288/110288 [==============================] - 35s 317us/step - loss: 0.0330 - acc: 0.9894 - val_loss: 0.0681 - val_acc: 0.9810\n",
      "Epoch 27/50\n",
      "110288/110288 [==============================] - 35s 316us/step - loss: 0.0319 - acc: 0.9900 - val_loss: 0.0663 - val_acc: 0.9818\n",
      "Epoch 28/50\n",
      "110288/110288 [==============================] - 35s 317us/step - loss: 0.0305 - acc: 0.9903 - val_loss: 0.0648 - val_acc: 0.9824\n",
      "Epoch 29/50\n",
      "110288/110288 [==============================] - 35s 317us/step - loss: 0.0288 - acc: 0.9910 - val_loss: 0.0703 - val_acc: 0.9812\n",
      "Epoch 30/50\n",
      "110288/110288 [==============================] - 35s 318us/step - loss: 0.0277 - acc: 0.9912 - val_loss: 0.0655 - val_acc: 0.9826\n",
      "Epoch 31/50\n",
      "110288/110288 [==============================] - 35s 315us/step - loss: 0.0254 - acc: 0.9920 - val_loss: 0.0676 - val_acc: 0.9822\n",
      "Epoch 32/50\n",
      "110288/110288 [==============================] - 35s 317us/step - loss: 0.0260 - acc: 0.9918 - val_loss: 0.0695 - val_acc: 0.9816\n",
      "Epoch 33/50\n",
      "110288/110288 [==============================] - 35s 317us/step - loss: 0.0247 - acc: 0.9922 - val_loss: 0.0709 - val_acc: 0.9819\n",
      "Epoch 34/50\n",
      "110288/110288 [==============================] - 35s 316us/step - loss: 0.0242 - acc: 0.9925 - val_loss: 0.0722 - val_acc: 0.9816\n",
      "Epoch 35/50\n",
      "110288/110288 [==============================] - 35s 319us/step - loss: 0.0248 - acc: 0.9924 - val_loss: 0.0684 - val_acc: 0.9826\n",
      "Epoch 36/50\n",
      "110288/110288 [==============================] - 35s 321us/step - loss: 0.0208 - acc: 0.9936 - val_loss: 0.0688 - val_acc: 0.9828\n",
      "Epoch 37/50\n",
      "110288/110288 [==============================] - 35s 319us/step - loss: 0.0196 - acc: 0.9940 - val_loss: 0.0682 - val_acc: 0.9827\n",
      "Epoch 38/50\n",
      "110288/110288 [==============================] - 36s 322us/step - loss: 0.0183 - acc: 0.9944 - val_loss: 0.0698 - val_acc: 0.9826\n",
      "Epoch 39/50\n",
      "110288/110288 [==============================] - 35s 316us/step - loss: 0.0184 - acc: 0.9945 - val_loss: 0.0769 - val_acc: 0.9808\n",
      "Epoch 40/50\n",
      "110288/110288 [==============================] - 35s 319us/step - loss: 0.0289 - acc: 0.9911 - val_loss: 0.0745 - val_acc: 0.9815\n",
      "Epoch 41/50\n",
      "110288/110288 [==============================] - 35s 317us/step - loss: 0.0176 - acc: 0.9946 - val_loss: 0.0700 - val_acc: 0.9830\n",
      "Epoch 42/50\n",
      "110288/110288 [==============================] - 35s 321us/step - loss: 0.0151 - acc: 0.9956 - val_loss: 0.0711 - val_acc: 0.9832\n",
      "Epoch 43/50\n",
      "110288/110288 [==============================] - 35s 316us/step - loss: 0.0142 - acc: 0.9959 - val_loss: 0.0717 - val_acc: 0.9832\n",
      "Epoch 44/50\n",
      "110288/110288 [==============================] - 35s 318us/step - loss: 0.0141 - acc: 0.9960 - val_loss: 0.0772 - val_acc: 0.9818\n",
      "Epoch 45/50\n",
      "110288/110288 [==============================] - 35s 317us/step - loss: 0.0239 - acc: 0.9929 - val_loss: 0.0953 - val_acc: 0.9774\n",
      "Epoch 46/50\n",
      "110288/110288 [==============================] - 35s 317us/step - loss: 0.0231 - acc: 0.9928 - val_loss: 0.0753 - val_acc: 0.9817\n",
      "Epoch 47/50\n",
      "110288/110288 [==============================] - 35s 318us/step - loss: 0.0137 - acc: 0.9960 - val_loss: 0.0726 - val_acc: 0.9834\n",
      "Epoch 48/50\n",
      "110288/110288 [==============================] - 35s 319us/step - loss: 0.0131 - acc: 0.9964 - val_loss: 0.0736 - val_acc: 0.9830\n",
      "Epoch 49/50\n",
      "110288/110288 [==============================] - 35s 316us/step - loss: 0.0113 - acc: 0.9969 - val_loss: 0.0758 - val_acc: 0.9833\n",
      "Epoch 50/50\n",
      "110288/110288 [==============================] - 35s 317us/step - loss: 0.0134 - acc: 0.9965 - val_loss: 0.0990 - val_acc: 0.9779\n",
      "Sample 1:\n",
      "il a vu un vieux camion jaune <PAD> <PAD> <PAD> <PAD> <PAD> <PAD> <PAD> <PAD> <PAD> <PAD> <PAD> <PAD> <PAD> <PAD>\n",
      "Il a vu un vieux camion jaune\n",
      "Sample 2:\n",
      "new jersey est parfois calme pendant l' automne et il est neigeux en avril <PAD> <PAD> <PAD> <PAD> <PAD> <PAD> <PAD>\n",
      "new jersey est parfois calme pendant l' automne et il est neigeux en avril <PAD> <PAD> <PAD> <PAD> <PAD> <PAD> <PAD>\n"
     ]
    }
   ],
   "source": [
    "def final_predictions(x, y, x_tk, y_tk):\n",
    "    \"\"\"\n",
    "    Gets predictions using the final model\n",
    "    :param x: Preprocessed English data\n",
    "    :param y: Preprocessed French data\n",
    "    :param x_tk: English tokenizer\n",
    "    :param y_tk: French tokenizer\n",
    "    \"\"\"\n",
    "    # TODO: Train neural network using model_final\n",
    "    x = pad(x, y.shape[1])\n",
    "    model = model_final(x.shape,y.shape[1],len(x_tk.word_index)+1,len(y_tk.word_index)+1)\n",
    "    model.fit(x, y, batch_size=256, epochs=50, validation_split=0.2)\n",
    "\n",
    "    \n",
    "    ## DON'T EDIT ANYTHING BELOW THIS LINE\n",
    "    y_id_to_word = {value: key for key, value in y_tk.word_index.items()}\n",
    "    y_id_to_word[0] = '<PAD>'\n",
    "\n",
    "    sentence = 'he saw a old yellow truck'\n",
    "    sentence = [x_tk.word_index[word] for word in sentence.split()]\n",
    "    sentence = pad_sequences([sentence], maxlen=x.shape[-1], padding='post')\n",
    "    sentences = np.array([sentence[0], x[0]])\n",
    "    predictions = model.predict(sentences, len(sentences))\n",
    "\n",
    "    print('Sample 1:')\n",
    "    print(' '.join([y_id_to_word[np.argmax(x)] for x in predictions[0]]))\n",
    "    print('Il a vu un vieux camion jaune')\n",
    "    print('Sample 2:')\n",
    "    print(' '.join([y_id_to_word[np.argmax(x)] for x in predictions[1]]))\n",
    "    print(' '.join([y_id_to_word[np.max(x)] for x in y[0]]))\n",
    "\n",
    "\n",
    "final_predictions(preproc_english_sentences, preproc_french_sentences, english_tokenizer, french_tokenizer)"
   ]
  },
  {
   "cell_type": "markdown",
   "metadata": {},
   "source": [
    "## Submission\n",
    "When you're ready to submit, complete the following steps:\n",
    "1. Review the [rubric](https://review.udacity.com/#!/rubrics/1004/view) to ensure your submission meets all requirements to pass\n",
    "2. Generate an HTML version of this notebook\n",
    "\n",
    "  - Run the next cell to attempt automatic generation (this is the recommended method in Workspaces)\n",
    "  - Navigate to **FILE -> Download as -> HTML (.html)**\n",
    "  - Manually generate a copy using `nbconvert` from your shell terminal\n",
    "```\n",
    "$ pip install nbconvert\n",
    "$ python -m nbconvert machine_translation.ipynb\n",
    "```\n",
    "  \n",
    "3. Submit the project\n",
    "\n",
    "  - If you are in a Workspace, simply click the \"Submit Project\" button (bottom towards the right)\n",
    "  \n",
    "  - Otherwise, add the following files into a zip archive and submit them \n",
    "  - `helper.py`\n",
    "  - `machine_translation.ipynb`\n",
    "  - `machine_translation.html`\n",
    "    - You can export the notebook by navigating to **File -> Download as -> HTML (.html)**."
   ]
  },
  {
   "cell_type": "markdown",
   "metadata": {},
   "source": [
    "### Generate the html\n",
    "\n",
    "**Save your notebook before running the next cell to generate the HTML output.** Then submit your project."
   ]
  },
  {
   "cell_type": "code",
   "execution_count": 2,
   "metadata": {},
   "outputs": [
    {
     "data": {
      "text/plain": [
       "['[NbConvertApp] Converting notebook machine_translation.ipynb to html',\n",
       " '[NbConvertApp] Writing 305996 bytes to machine_translation.html']"
      ]
     },
     "execution_count": 2,
     "metadata": {},
     "output_type": "execute_result"
    }
   ],
   "source": [
    "# Save before you run this cell!\n",
    "!!jupyter nbconvert *.ipynb"
   ]
  },
  {
   "cell_type": "markdown",
   "metadata": {},
   "source": [
    "## Optional Enhancements\n",
    "\n",
    "This project focuses on learning various network architectures for machine translation, but we don't evaluate the models according to best practices by splitting the data into separate test & training sets -- so the model accuracy is overstated. Use the [`sklearn.model_selection.train_test_split()`](http://scikit-learn.org/stable/modules/generated/sklearn.model_selection.train_test_split.html) function to create separate training & test datasets, then retrain each of the models using only the training set and evaluate the prediction accuracy using the hold out test set. Does the \"best\" model change?"
   ]
  }
 ],
 "metadata": {
  "kernelspec": {
   "display_name": "Python 3",
   "language": "python",
   "name": "python3"
  },
  "language_info": {
   "codemirror_mode": {
    "name": "ipython",
    "version": 3
   },
   "file_extension": ".py",
   "mimetype": "text/x-python",
   "name": "python",
   "nbconvert_exporter": "python",
   "pygments_lexer": "ipython3",
   "version": "3.7.6"
  }
 },
 "nbformat": 4,
 "nbformat_minor": 1
}
